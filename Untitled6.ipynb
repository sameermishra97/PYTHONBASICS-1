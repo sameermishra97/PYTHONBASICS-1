{
  "nbformat": 4,
  "nbformat_minor": 0,
  "metadata": {
    "colab": {
      "provenance": []
    },
    "kernelspec": {
      "name": "python3",
      "display_name": "Python 3"
    },
    "language_info": {
      "name": "python"
    }
  },
  "cells": [
    {
      "cell_type": "markdown",
      "source": [
        "Questin No 1 - What is Python, and why is it popular\n",
        "      Answer- Python is a programming language that is known for its simplicity and readability. It is popular because it is easy to learn ansd use and also of extensive libraries and framework..\n",
        "\n",
        "Question No 2- 0 What is an interpreter in Python ?\n",
        "        Answer- An interpreter is a program that executes the python code directly without any compliation step ..\n",
        "\n",
        "Question NO 3 - 0 What are pre-defined keywords in Python\n",
        "         Answer- Pre-defined keywordsare are reserved words in python that have special meaning and are case sensitive .like - if,while, elif etc..\n",
        "\n",
        "Question No 4 -0 Can keywords be used as variable names ?\n",
        "           Answer- NO , Keywords can not be used as variable names                \n",
        "\n",
        "Question No 5 - What is mutability in Python ?\n",
        "            Answer- Mutability in python Shows that objects can be changeable.\n",
        "\n",
        "Question No 6-0 Why are lists mutable, but tuples are immutable\n",
        "         Answer- Lists are mutable because it can be changeable but tuples can not change after writing sot tuples are immutable..\n",
        "\n",
        " Question No 7- what is the difference between “==” and “is” operators in Python?\n",
        "       Answer- \"==\" is used to compare the values Of two objects and \"is\" used to compare the identities of two objects..\n",
        "\n",
        "\n",
        "Question No 8 - 0 What are logical operators in Python ?\n",
        "           Answer - Logical operators are (and , or , not)  \n",
        "           and - if both operands are true.\n",
        "           or - if oe operand is true .\n",
        "           not - inverts the boolea value of the operand..      \n",
        "\n",
        "Question No 9 -  What is type casting in Python?\n",
        "           Answer - type casting also referred to as  \"type convesion\" is the process of changing one data type to another in python..\n",
        "\n",
        "question No 10 -   What is the difference between implicit and explicit type casting ?\n",
        "         Answer - Implicit type casting is performed by the python interpreter automatically without any user intervention.\n",
        "         Explicit type casting is performed by the user by explicitly specifying the target data type.. some built in functions like int() , float()\n",
        "\n",
        "Question No 11 -  What is the purpose of conditional statements in Python ?\n",
        "             Answer - Conditional statements in python are used to execute code based on  the execution of one or more condition..\n",
        "\n",
        "Question No 12 -  How does the elif statement work ?\n",
        "         Answer- Elif statement work on two conndition \"IF\" AND \"ELSE\"\n",
        "\n",
        "\n",
        "Question No 13 -  What is the difference between for and while loop?\n",
        "            Answer - \"For\" loops are used for iterating over a sequence of elements and \"while\" loop are used for executing code until a specified condition becomes false ..\n",
        "\n",
        "Question No 14 - Describe a scenario where a while loop is more suitable than a for loop?\n",
        "        Answer -DON'T know....."
      ],
      "metadata": {
        "id": "33p94cxLANkD"
      }
    },
    {
      "cell_type": "code",
      "source": [],
      "metadata": {
        "id": "xFbDY2haIe9n"
      },
      "execution_count": null,
      "outputs": []
    },
    {
      "cell_type": "markdown",
      "source": [
        "PRACTICAL QUESTION\n",
        "\n",
        " Question no 1 -  Write a Python program to print \"Hello, World"
      ],
      "metadata": {
        "id": "fwjWBs07NA2C"
      }
    },
    {
      "cell_type": "code",
      "source": [
        "print(\"hello world\")"
      ],
      "metadata": {
        "colab": {
          "base_uri": "https://localhost:8080/"
        },
        "id": "-Ewzt4TANM0X",
        "outputId": "148af7ee-6f1c-4af5-997e-87ce31d944da"
      },
      "execution_count": 5,
      "outputs": [
        {
          "output_type": "stream",
          "name": "stdout",
          "text": [
            "hello world\n"
          ]
        }
      ]
    },
    {
      "cell_type": "markdown",
      "source": [
        "Question No 2 -  Write a Python program that displays your name and age ?"
      ],
      "metadata": {
        "id": "6XsjxxwANWUl"
      }
    },
    {
      "cell_type": "code",
      "source": [
        "name = \"sameer mishra\"\n",
        "age = 19\n",
        "print (name)\n",
        "print(age)"
      ],
      "metadata": {
        "colab": {
          "base_uri": "https://localhost:8080/"
        },
        "id": "Q41KFtT9Nina",
        "outputId": "43ee2c24-8cc8-486b-9ac9-907bdc54f6e2"
      },
      "execution_count": 10,
      "outputs": [
        {
          "output_type": "stream",
          "name": "stdout",
          "text": [
            "sameer mishra\n",
            "19\n"
          ]
        }
      ]
    },
    {
      "cell_type": "markdown",
      "source": [
        "Question no 3 - Write code to print all the pre-defined keywords in Python using the keyword library ?\n"
      ],
      "metadata": {
        "id": "ycdt_PIBOJxD"
      }
    },
    {
      "cell_type": "code",
      "source": [
        "print(\"Python Keywords:\")\n",
        "for kw in keyword.kwlist:\n",
        "    print(kw)"
      ],
      "metadata": {
        "colab": {
          "base_uri": "https://localhost:8080/"
        },
        "id": "b8YA1iFuNxn9",
        "outputId": "6deffd2b-5c27-4fad-b08a-a27e86270ea6"
      },
      "execution_count": 14,
      "outputs": [
        {
          "output_type": "stream",
          "name": "stdout",
          "text": [
            "Python Keywords:\n",
            "False\n",
            "None\n",
            "True\n",
            "and\n",
            "as\n",
            "assert\n",
            "async\n",
            "await\n",
            "break\n",
            "class\n",
            "continue\n",
            "def\n",
            "del\n",
            "elif\n",
            "else\n",
            "except\n",
            "finally\n",
            "for\n",
            "from\n",
            "global\n",
            "if\n",
            "import\n",
            "in\n",
            "is\n",
            "lambda\n",
            "nonlocal\n",
            "not\n",
            "or\n",
            "pass\n",
            "raise\n",
            "return\n",
            "try\n",
            "while\n",
            "with\n",
            "yield\n"
          ]
        }
      ]
    },
    {
      "cell_type": "markdown",
      "source": [
        "Question no 4 -  Write a program that checks if a given word is a Python keyword"
      ],
      "metadata": {
        "id": "MkSe6AybMmy6"
      }
    },
    {
      "cell_type": "markdown",
      "source": [],
      "metadata": {
        "id": "8uzGhYigOLXI"
      }
    },
    {
      "cell_type": "code",
      "source": [
        "\n",
        "def is_keyword(word):\n",
        "    if keyword.iskeyword(word):\n",
        "        return f\"'{word}' is a Python keyword.\"\n",
        "    else:\n",
        "        return f\"'{word}' is not a Python keyword.\"\n",
        "\n",
        "word = input(\"Enter a word: \")\n",
        "result = is_keyword(word)\n",
        "print(result)\n",
        "\n",
        "\n",
        "\n",
        "\n",
        "\n"
      ],
      "metadata": {
        "colab": {
          "base_uri": "https://localhost:8080/",
          "height": 349
        },
        "id": "Whcv12SgM6a6",
        "outputId": "4036aab8-be5c-4e15-9ea7-a7c363d4dfdf"
      },
      "execution_count": 5,
      "outputs": [
        {
          "name": "stdout",
          "output_type": "stream",
          "text": [
            "Enter a word: false\n"
          ]
        },
        {
          "output_type": "error",
          "ename": "NameError",
          "evalue": "name 'keyword' is not defined",
          "traceback": [
            "\u001b[0;31m---------------------------------------------------------------------------\u001b[0m",
            "\u001b[0;31mNameError\u001b[0m                                 Traceback (most recent call last)",
            "\u001b[0;32m<ipython-input-5-6e802b7862ff>\u001b[0m in \u001b[0;36m<cell line: 8>\u001b[0;34m()\u001b[0m\n\u001b[1;32m      6\u001b[0m \u001b[0;34m\u001b[0m\u001b[0m\n\u001b[1;32m      7\u001b[0m \u001b[0mword\u001b[0m \u001b[0;34m=\u001b[0m \u001b[0minput\u001b[0m\u001b[0;34m(\u001b[0m\u001b[0;34m\"Enter a word: \"\u001b[0m\u001b[0;34m)\u001b[0m\u001b[0;34m\u001b[0m\u001b[0;34m\u001b[0m\u001b[0m\n\u001b[0;32m----> 8\u001b[0;31m \u001b[0mresult\u001b[0m \u001b[0;34m=\u001b[0m \u001b[0mis_keyword\u001b[0m\u001b[0;34m(\u001b[0m\u001b[0mword\u001b[0m\u001b[0;34m)\u001b[0m\u001b[0;34m\u001b[0m\u001b[0;34m\u001b[0m\u001b[0m\n\u001b[0m\u001b[1;32m      9\u001b[0m \u001b[0mprint\u001b[0m\u001b[0;34m(\u001b[0m\u001b[0mresult\u001b[0m\u001b[0;34m)\u001b[0m\u001b[0;34m\u001b[0m\u001b[0;34m\u001b[0m\u001b[0m\n\u001b[1;32m     10\u001b[0m \u001b[0;34m\u001b[0m\u001b[0m\n",
            "\u001b[0;32m<ipython-input-5-6e802b7862ff>\u001b[0m in \u001b[0;36mis_keyword\u001b[0;34m(word)\u001b[0m\n\u001b[1;32m      1\u001b[0m \u001b[0;32mdef\u001b[0m \u001b[0mis_keyword\u001b[0m\u001b[0;34m(\u001b[0m\u001b[0mword\u001b[0m\u001b[0;34m)\u001b[0m\u001b[0;34m:\u001b[0m\u001b[0;34m\u001b[0m\u001b[0;34m\u001b[0m\u001b[0m\n\u001b[0;32m----> 2\u001b[0;31m     \u001b[0;32mif\u001b[0m \u001b[0mkeyword\u001b[0m\u001b[0;34m.\u001b[0m\u001b[0miskeyword\u001b[0m\u001b[0;34m(\u001b[0m\u001b[0mword\u001b[0m\u001b[0;34m)\u001b[0m\u001b[0;34m:\u001b[0m\u001b[0;34m\u001b[0m\u001b[0;34m\u001b[0m\u001b[0m\n\u001b[0m\u001b[1;32m      3\u001b[0m         \u001b[0;32mreturn\u001b[0m \u001b[0;34mf\"'{word}' is a Python keyword.\"\u001b[0m\u001b[0;34m\u001b[0m\u001b[0;34m\u001b[0m\u001b[0m\n\u001b[1;32m      4\u001b[0m     \u001b[0;32melse\u001b[0m\u001b[0;34m:\u001b[0m\u001b[0;34m\u001b[0m\u001b[0;34m\u001b[0m\u001b[0m\n\u001b[1;32m      5\u001b[0m         \u001b[0;32mreturn\u001b[0m \u001b[0;34mf\"'{word}' is not a Python keyword.\"\u001b[0m\u001b[0;34m\u001b[0m\u001b[0;34m\u001b[0m\u001b[0m\n",
            "\u001b[0;31mNameError\u001b[0m: name 'keyword' is not defined"
          ]
        }
      ]
    },
    {
      "cell_type": "markdown",
      "source": [
        "Question no 5 -Create a list and tuple in Python, and demonstrate how attempting to change an element works differently\n",
        "for each"
      ],
      "metadata": {
        "id": "Cbe8Fx6DOxqM"
      }
    },
    {
      "cell_type": "code",
      "source": [
        "\n",
        "my_list = [1, 2, 3, 4, 5]\n",
        "print(\"Original List:\", my_list)\n",
        "\n",
        "my_tuple = (1, 2, 3, 4, 5)\n",
        "print(\"Original Tuple:\", my_tuple)\n",
        "\n",
        "\n",
        "my_list[2] = 99\n",
        "print(\"Modified List:\", my_list)\n",
        "\n",
        "try:\n",
        "    my_tuple[2] = 99\n",
        "except TypeError as e:\n",
        "    print(\"Error:\", e)\n"
      ],
      "metadata": {
        "colab": {
          "base_uri": "https://localhost:8080/"
        },
        "id": "o64TX8HoPBY_",
        "outputId": "5750f6ba-ab7b-4c90-e264-0f669c533ca2"
      },
      "execution_count": 6,
      "outputs": [
        {
          "output_type": "stream",
          "name": "stdout",
          "text": [
            "Original List: [1, 2, 3, 4, 5]\n",
            "Original Tuple: (1, 2, 3, 4, 5)\n",
            "Modified List: [1, 2, 99, 4, 5]\n",
            "Error: 'tuple' object does not support item assignment\n"
          ]
        }
      ]
    },
    {
      "cell_type": "markdown",
      "source": [
        "Question no 6-  Write a function to demonstrate the behavior of mutable and immutable arguments"
      ],
      "metadata": {
        "id": "IcgKDEZcPJWo"
      }
    },
    {
      "cell_type": "code",
      "source": [
        "def modify_args(mutable_arg, immutable_arg):\n",
        "\n",
        "    mutable_arg.append(100)\n",
        "    print(\"Inside function, mutable_arg:\", mutable_arg)\n",
        "\n",
        "\n",
        "    immutable_arg += 100\n",
        "    print(\"Inside function, immutable_arg:\", immutable_arg)\n",
        "\n",
        "\n",
        "my_list = [1, 2, 3]\n",
        "my_int = 10\n",
        "\n",
        "print(\"Before function call, my_list:\", my_list)\n",
        "print(\"Before function call, my_int:\", my_int)\n",
        "\n",
        "\n",
        "modify_args(my_list, my_int)\n",
        "\n",
        "print(\"After function call, my_list:\", my_list)\n",
        "print(\"After function call, my_int:\", my_int)\n"
      ],
      "metadata": {
        "colab": {
          "base_uri": "https://localhost:8080/"
        },
        "id": "-1X4PNDpPX0w",
        "outputId": "bd5e5d24-61a2-41c7-e75d-1a3dfe912b54"
      },
      "execution_count": 7,
      "outputs": [
        {
          "output_type": "stream",
          "name": "stdout",
          "text": [
            "Before function call, my_list: [1, 2, 3]\n",
            "Before function call, my_int: 10\n",
            "Inside function, mutable_arg: [1, 2, 3, 100]\n",
            "Inside function, immutable_arg: 110\n",
            "After function call, my_list: [1, 2, 3, 100]\n",
            "After function call, my_int: 10\n"
          ]
        }
      ]
    },
    {
      "cell_type": "markdown",
      "source": [
        "Question no 8 - Write a program to demonstrate the use of logical operators"
      ],
      "metadata": {
        "id": "dDCUkNcoPhST"
      }
    },
    {
      "cell_type": "code",
      "source": [
        "\n",
        "def logical_operators_demo():\n",
        "    print(\"Enter two numbers:\")\n",
        "    num1 = int(input(\"Number 1: \"))\n",
        "    num2 = int(input(\"Number 2: \"))\n",
        "\n",
        "\n",
        "    if num1 > 0 and num2 > 0:\n",
        "        print(f\"Both numbers {num1} and {num2} are positive.\")\n",
        "    else:\n",
        "        print(f\"At least one of the numbers {num1} or {num2} is not positive.\")\n",
        "\n",
        "    if num1 % 2 == 0 or num2 % 2 == 0:\n",
        "        print(f\"At least one of the numbers {num1} or {num2} is even.\")\n",
        "    else:\n",
        "        print(f\"Neither {num1} nor {num2} is even.\")\n",
        "\n",
        "\n",
        "    if not (num1 < 0):\n",
        "        print(f\"The number {num1} is not negative.\")\n",
        "    else:\n",
        "        print(f\"The number {num1} is negative.\")\n",
        "\n",
        "    if not (num2 < 0):\n",
        "        print(f\"The number {num2} is not negative.\")\n",
        "    else:\n",
        "        print(f\"The number {num2} is negative.\")\n",
        "\n",
        "\n",
        "logical_operators_demo()\n"
      ],
      "metadata": {
        "colab": {
          "base_uri": "https://localhost:8080/"
        },
        "id": "NT7Y3eVoPvev",
        "outputId": "49f0196b-5f4c-408a-d8b8-1e61b165ad31"
      },
      "execution_count": 8,
      "outputs": [
        {
          "output_type": "stream",
          "name": "stdout",
          "text": [
            "Enter two numbers:\n",
            "Number 1: 23\n",
            "Number 2: 22\n",
            "Both numbers 23 and 22 are positive.\n",
            "At least one of the numbers 23 or 22 is even.\n",
            "The number 23 is not negative.\n",
            "The number 22 is not negative.\n"
          ]
        }
      ]
    },
    {
      "cell_type": "markdown",
      "source": [
        "Question no 9 - 0 Write a Python program to convert user input from string to integer, float, and boolean types0"
      ],
      "metadata": {
        "id": "rbArcsBdQPdx"
      }
    },
    {
      "cell_type": "code",
      "source": [
        "\n",
        "def convert_input(input_str):\n",
        "    try:\n",
        "\n",
        "        int_value = int(input_str)\n",
        "        print(f\"Integer: {int_value}\")\n",
        "    except ValueError:\n",
        "        print(\"Invalid input for integer conversion.\")\n",
        "\n",
        "    try:\n",
        "\n",
        "        float_value = float(input_str)\n",
        "        print(f\"Float: {float_value}\")\n",
        "    except ValueError:\n",
        "        print(\"Invalid input for float conversion.\")\n",
        "\n",
        "\n",
        "    bool_value = bool(input_str)\n",
        "    print(f\"Boolean: {bool_value}\")\n",
        "\n",
        "\n",
        "user_input = input(\"Enter a value: \")\n",
        "convert_input(user_input)\n"
      ],
      "metadata": {
        "colab": {
          "base_uri": "https://localhost:8080/"
        },
        "id": "0d_175_0QS2X",
        "outputId": "f0ad69f4-a2bd-4653-d7e8-dd2dc0da5eae"
      },
      "execution_count": 9,
      "outputs": [
        {
          "output_type": "stream",
          "name": "stdout",
          "text": [
            "Enter a value: 32\n",
            "Integer: 32\n",
            "Float: 32.0\n",
            "Boolean: True\n"
          ]
        }
      ]
    },
    {
      "cell_type": "markdown",
      "source": [
        "Question no 10 -Write code to demonstrate type casting with list elements"
      ],
      "metadata": {
        "id": "Y9Hqj2UKQpxD"
      }
    },
    {
      "cell_type": "code",
      "source": [
        "\n",
        "original_list = [\"123\", \"45.67\", \"True\", \"456\", \"89.01\"]\n",
        "\n",
        "\n",
        "int_list = []\n",
        "float_list = []\n",
        "bool_list = []\n",
        "\n",
        "\n",
        "for element in original_list:\n",
        "    try:\n",
        "\n",
        "        int_value = int(element)\n",
        "        int_list.append(int_value)\n",
        "    except ValueError:\n",
        "        print(f\"Cannot convert {element} to int\")\n",
        "\n",
        "    try:\n",
        "\n",
        "        float_value = float(element)\n",
        "        float_list.append(float_value)\n",
        "    except ValueError:\n",
        "        print(f\"Cannot convert {element} to float\")\n",
        "\n",
        "    try:\n",
        "\n",
        "        bool_value = bool(eval(element))\n",
        "        bool_list.append(bool_value)\n",
        "    except (ValueError, SyntaxError):\n",
        "        print(f\"Cannot convert {element} to bool\")\n",
        "\n",
        "\n",
        "print(\"Original list:\", original_list)\n",
        "print(\"Integer list:\", int_list)\n",
        "print(\"Float list:\", float_list)\n",
        "print(\"Boolean list:\", bool_list)\n"
      ],
      "metadata": {
        "colab": {
          "base_uri": "https://localhost:8080/"
        },
        "id": "zeJmoS6FQy9Q",
        "outputId": "487a4d4f-b375-423e-f849-2c0d8ee3ecc0"
      },
      "execution_count": 10,
      "outputs": [
        {
          "output_type": "stream",
          "name": "stdout",
          "text": [
            "Cannot convert 45.67 to int\n",
            "Cannot convert True to int\n",
            "Cannot convert True to float\n",
            "Cannot convert 89.01 to int\n",
            "Original list: ['123', '45.67', 'True', '456', '89.01']\n",
            "Integer list: [123, 456]\n",
            "Float list: [123.0, 45.67, 456.0, 89.01]\n",
            "Boolean list: [True, True, True, True, True]\n"
          ]
        }
      ]
    },
    {
      "cell_type": "markdown",
      "source": [
        "Question no 11 - Write a program that checks if a number is positive, negative, or zero"
      ],
      "metadata": {
        "id": "z4buYZRERM6d"
      }
    },
    {
      "cell_type": "code",
      "source": [
        "\n",
        "def check_number(num):\n",
        "    if num > 0:\n",
        "        print(f\"{num} is a positive number.\")\n",
        "    elif num < 0:\n",
        "        print(f\"{num} is a negative number.\")\n",
        "    else:\n",
        "        print(f\"{num} is zero.\")\n",
        "try:\n",
        "    user_input = float(input(\"Enter a number: \"))\n",
        "    check_number(user_input)\n",
        "except ValueError:\n",
        "    print(\"Invalid input. Please enter a valid number.\")\n"
      ],
      "metadata": {
        "colab": {
          "base_uri": "https://localhost:8080/"
        },
        "id": "QfMNqQGgRW7P",
        "outputId": "a4efe1b5-d4f4-41d3-d93a-08c73751a813"
      },
      "execution_count": 11,
      "outputs": [
        {
          "output_type": "stream",
          "name": "stdout",
          "text": [
            "Enter a number: 11\n",
            "11.0 is a positive number.\n"
          ]
        }
      ]
    },
    {
      "cell_type": "markdown",
      "source": [
        "Question no 12 -  Write a for loop to print numbers from 1 to 10"
      ],
      "metadata": {
        "id": "3ve6YOGWRnLC"
      }
    },
    {
      "cell_type": "code",
      "source": [
        "\n",
        "for num in range(1, 11):\n",
        "    print(num)\n"
      ],
      "metadata": {
        "colab": {
          "base_uri": "https://localhost:8080/"
        },
        "id": "UW0rp12QRv9j",
        "outputId": "6dd1fd90-a90b-47fc-fb47-81462c830bf6"
      },
      "execution_count": 12,
      "outputs": [
        {
          "output_type": "stream",
          "name": "stdout",
          "text": [
            "1\n",
            "2\n",
            "3\n",
            "4\n",
            "5\n",
            "6\n",
            "7\n",
            "8\n",
            "9\n",
            "10\n"
          ]
        }
      ]
    },
    {
      "cell_type": "markdown",
      "source": [
        "Question no 13- 0 Write a Python program to find the sum of all even numbers between 1 and 50"
      ],
      "metadata": {
        "id": "lfB8oVP5R_Np"
      }
    },
    {
      "cell_type": "code",
      "source": [
        "\n",
        "sum_of_even_numbers = 0\n",
        "\n",
        "\n",
        "for num in range(1, 51):\n",
        "\n",
        "    if num % 2 == 0:\n",
        "\n",
        "        sum_of_even_numbers += num\n",
        "\n",
        "print(\"The sum of all even numbers between 1 and 50 is:\", sum_of_even_numbers)\n"
      ],
      "metadata": {
        "colab": {
          "base_uri": "https://localhost:8080/"
        },
        "id": "bx2JTYThSEgT",
        "outputId": "6e9aba17-7834-4b1f-8648-2c6ed45aa24c"
      },
      "execution_count": 13,
      "outputs": [
        {
          "output_type": "stream",
          "name": "stdout",
          "text": [
            "The sum of all even numbers between 1 and 50 is: 650\n"
          ]
        }
      ]
    },
    {
      "cell_type": "markdown",
      "source": [
        "Question no 14 -Write a program to reverse a string using a while loop"
      ],
      "metadata": {
        "id": "iT4d5fVoSRGn"
      }
    },
    {
      "cell_type": "code",
      "source": [
        "\n",
        "def reverse_string(input_string):\n",
        "\n",
        "    reversed_string = ''\n",
        "\n",
        "\n",
        "    index = len(input_string) - 1\n",
        "\n",
        "\n",
        "    while index >= 0:\n",
        "        reversed_string += input_string[index]\n",
        "        index -= 1\n",
        "\n",
        "    return reversed_string\n",
        "\n",
        "\n",
        "user_input = input(\"Enter a string to reverse: \")\n",
        "reversed_output = reverse_string(user_input)\n",
        "print(\"Reversed string:\", reversed_output)\n"
      ],
      "metadata": {
        "colab": {
          "base_uri": "https://localhost:8080/"
        },
        "id": "fiRGNhS4Sbmx",
        "outputId": "a43727cc-c56e-4a91-ce11-0ff800b0b4eb"
      },
      "execution_count": 14,
      "outputs": [
        {
          "output_type": "stream",
          "name": "stdout",
          "text": [
            "Enter a string to reverse: olleh\n",
            "Reversed string: hello\n"
          ]
        }
      ]
    },
    {
      "cell_type": "markdown",
      "source": [
        "Question no 15 -Write a Python program to calculate the factorial of a number provided by the user using a while loop"
      ],
      "metadata": {
        "id": "AW6lBenhSv2h"
      }
    },
    {
      "cell_type": "code",
      "source": [
        "\n",
        "def calculate_factorial(number):\n",
        "\n",
        "    factorial = 1\n",
        "\n",
        "    counter = number\n",
        "\n",
        "\n",
        "    while counter > 0:\n",
        "        factorial *= counter\n",
        "        counter -= 1\n",
        "\n",
        "    return factorial\n",
        "try:\n",
        "    user_input = int(input(\"Enter a non-negative integer: \"))\n",
        "    if user_input < 0:\n",
        "        print(\"Factorial is not defined for negative numbers.\")\n",
        "    else:\n",
        "        result = calculate_factorial(user_input)\n",
        "        print(f\"The factorial of {user_input} is {result}.\")\n",
        "except ValueError:\n",
        "    print(\"Invalid input. Please enter a non-negative integer.\")\n"
      ],
      "metadata": {
        "colab": {
          "base_uri": "https://localhost:8080/"
        },
        "id": "fWZXmhimTMxE",
        "outputId": "2e66b502-8bcf-4fe2-82c2-03a2df84624c"
      },
      "execution_count": 15,
      "outputs": [
        {
          "output_type": "stream",
          "name": "stdout",
          "text": [
            "Enter a non-negative integer: 55\n",
            "The factorial of 55 is 12696403353658275925965100847566516959580321051449436762275840000000000000.\n"
          ]
        }
      ]
    },
    {
      "cell_type": "code",
      "source": [],
      "metadata": {
        "id": "i-Z41tQbTUR5"
      },
      "execution_count": null,
      "outputs": []
    }
  ]
}